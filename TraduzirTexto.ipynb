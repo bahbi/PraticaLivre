{
  "nbformat": 4,
  "nbformat_minor": 0,
  "metadata": {
    "colab": {
      "name": "TraduzirTexto.ipynb",
      "provenance": [],
      "authorship_tag": "ABX9TyPjTQkUaVupR/3wprQiwi9r",
      "include_colab_link": true
    },
    "kernelspec": {
      "name": "python3",
      "display_name": "Python 3"
    },
    "language_info": {
      "name": "python"
    }
  },
  "cells": [
    {
      "cell_type": "markdown",
      "metadata": {
        "id": "view-in-github",
        "colab_type": "text"
      },
      "source": [
        "<a href=\"https://colab.research.google.com/github/bahbi/PraticaLivre/blob/main/TraduzirTexto.ipynb\" target=\"_parent\"><img src=\"https://colab.research.google.com/assets/colab-badge.svg\" alt=\"Open In Colab\"/></a>"
      ]
    },
    {
      "cell_type": "markdown",
      "source": [
        "##Traduzir texto com Python"
      ],
      "metadata": {
        "id": "rMZB3AyCt-Z_"
      }
    },
    {
      "cell_type": "markdown",
      "source": [
        "Link módulo: https://pypi.org/project/translate/"
      ],
      "metadata": {
        "id": "_RA3nYkhugKg"
      }
    },
    {
      "cell_type": "markdown",
      "source": [
        "pip é um sistema de gerenciamento de pacotes padrão de facto usado para instalar e gerenciar pacotes"
      ],
      "metadata": {
        "id": "FbzlP400vZiz"
      }
    },
    {
      "cell_type": "code",
      "source": [
        "#Instalação do módulo para traduzir um texto pode ser realizada através do pip com o seguinte comnando: \n",
        "pip install translate"
      ],
      "metadata": {
        "colab": {
          "base_uri": "https://localhost:8080/"
        },
        "id": "WQ6UBzN-uRF2",
        "outputId": "d4a1314f-9703-4077-beec-35487205a722"
      },
      "execution_count": 1,
      "outputs": [
        {
          "output_type": "stream",
          "name": "stdout",
          "text": [
            "Collecting translate\n",
            "  Downloading translate-3.6.1-py2.py3-none-any.whl (12 kB)\n",
            "Requirement already satisfied: requests in /usr/local/lib/python3.7/dist-packages (from translate) (2.23.0)\n",
            "Requirement already satisfied: click in /usr/local/lib/python3.7/dist-packages (from translate) (7.1.2)\n",
            "Collecting libretranslatepy==2.1.1\n",
            "  Downloading libretranslatepy-2.1.1-py3-none-any.whl (3.2 kB)\n",
            "Requirement already satisfied: lxml in /usr/local/lib/python3.7/dist-packages (from translate) (4.2.6)\n",
            "Requirement already satisfied: urllib3!=1.25.0,!=1.25.1,<1.26,>=1.21.1 in /usr/local/lib/python3.7/dist-packages (from requests->translate) (1.24.3)\n",
            "Requirement already satisfied: certifi>=2017.4.17 in /usr/local/lib/python3.7/dist-packages (from requests->translate) (2021.10.8)\n",
            "Requirement already satisfied: idna<3,>=2.5 in /usr/local/lib/python3.7/dist-packages (from requests->translate) (2.10)\n",
            "Requirement already satisfied: chardet<4,>=3.0.2 in /usr/local/lib/python3.7/dist-packages (from requests->translate) (3.0.4)\n",
            "Installing collected packages: libretranslatepy, translate\n",
            "Successfully installed libretranslatepy-2.1.1 translate-3.6.1\n"
          ]
        }
      ]
    },
    {
      "cell_type": "code",
      "source": [
        "texto = 'When you try your best, but you don t succeed When you get what you want, but not what you need When you feel so tired, but you can t sleepStuck in reverse'"
      ],
      "metadata": {
        "id": "ultwttiawHmJ"
      },
      "execution_count": 2,
      "outputs": []
    },
    {
      "cell_type": "code",
      "source": [
        "from translate.translate import Translator\n",
        "#from translate import translator \n",
        "\n",
        "tradutor = Translator(from_lang='english',to_lang='portuguese')\n",
        "resultado = tradutor.translate('When you try your best, but you don t succeed When you get what you want')\n",
        "\n",
        "print(resultado) "
      ],
      "metadata": {
        "colab": {
          "base_uri": "https://localhost:8080/"
        },
        "id": "4GF1OuspuUw_",
        "outputId": "2ee30b3e-3b4f-452f-a3e6-8b531768ecf7"
      },
      "execution_count": 6,
      "outputs": [
        {
          "output_type": "stream",
          "name": "stdout",
          "text": [
            "Mas quando você faz, nem sempre consegue os resultados esperados.\n"
          ]
        }
      ]
    },
    {
      "cell_type": "code",
      "source": [
        ""
      ],
      "metadata": {
        "id": "qNcEy-ltwe4S"
      },
      "execution_count": null,
      "outputs": []
    }
  ]
}