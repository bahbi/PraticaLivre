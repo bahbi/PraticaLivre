{
  "nbformat": 4,
  "nbformat_minor": 0,
  "metadata": {
    "colab": {
      "name": "automacao.ipynb",
      "provenance": [],
      "authorship_tag": "ABX9TyO4dxEGHYYAbBc/EeQS9/k3",
      "include_colab_link": true
    },
    "kernelspec": {
      "name": "python3",
      "display_name": "Python 3"
    },
    "language_info": {
      "name": "python"
    }
  },
  "cells": [
    {
      "cell_type": "markdown",
      "metadata": {
        "id": "view-in-github",
        "colab_type": "text"
      },
      "source": [
        "<a href=\"https://colab.research.google.com/github/bahbi/PraticaLivre/blob/main/automacao.ipynb\" target=\"_parent\"><img src=\"https://colab.research.google.com/assets/colab-badge.svg\" alt=\"Open In Colab\"/></a>"
      ]
    },
    {
      "cell_type": "markdown",
      "source": [
        "##Automação com SELENIUM em Python | Baixando DADOS de COVID-19 no Google Colab | Web Scraping"
      ],
      "metadata": {
        "id": "9N_k79EZbIai"
      }
    },
    {
      "cell_type": "markdown",
      "source": [
        "Ddaos: https://covid.saude.gov.br/"
      ],
      "metadata": {
        "id": "xWzMYDmMXzPL"
      }
    },
    {
      "cell_type": "markdown",
      "source": [
        "####Primeiro passo é verificar o botão \n",
        "####Problema: arquivo sem link específico\n",
        "####Ferramenta: Selinum - simular ações em um site "
      ],
      "metadata": {
        "id": "BTSPXfQPX-Ks"
      }
    },
    {
      "cell_type": "code",
      "source": [
        "!pip install selenium \n",
        "!apt-get update\n",
        "!apt install chromium-chromedriver "
      ],
      "metadata": {
        "id": "uK-iLW_KLbF8"
      },
      "execution_count": null,
      "outputs": []
    },
    {
      "cell_type": "code",
      "source": [
        "from selenium import webdriver "
      ],
      "metadata": {
        "id": "s3f7QbUzMGdP"
      },
      "execution_count": null,
      "outputs": []
    },
    {
      "cell_type": "code",
      "source": [
        "chrome_options = webdriver.ChromeOptions()"
      ],
      "metadata": {
        "id": "uqfOiUHDMbQD"
      },
      "execution_count": null,
      "outputs": []
    },
    {
      "cell_type": "code",
      "source": [
        "chrome_options.add_argument('--headless')\n",
        "chrome_options.add_argument('--no-sandbox')\n",
        "chrome_options.add_argument('--disable-dev-shm-usage')"
      ],
      "metadata": {
        "id": "jdrYPBacM2Z1"
      },
      "execution_count": null,
      "outputs": []
    },
    {
      "cell_type": "code",
      "source": [
        "wd_chrome = webdriver.Chrome(chrome_options = chrome_options)"
      ],
      "metadata": {
        "colab": {
          "base_uri": "https://localhost:8080/"
        },
        "id": "VBYZuSpyZ_EI",
        "outputId": "828e047f-d4f4-4a6b-b0d0-fcb017d83b0c"
      },
      "execution_count": null,
      "outputs": [
        {
          "output_type": "stream",
          "name": "stderr",
          "text": [
            "/usr/local/lib/python3.7/dist-packages/ipykernel_launcher.py:1: DeprecationWarning: use options instead of chrome_options\n",
            "  \"\"\"Entry point for launching an IPython kernel.\n"
          ]
        }
      ]
    },
    {
      "cell_type": "code",
      "source": [
        "wd_chrome.get('https://covid.saude.gov.br')"
      ],
      "metadata": {
        "id": "roBaIk2YaYHY"
      },
      "execution_count": null,
      "outputs": []
    },
    {
      "cell_type": "markdown",
      "source": [
        "xpath: forma de nomear um caminho de um documento xml"
      ],
      "metadata": {
        "id": "1TM5hV9_cjZ6"
      }
    },
    {
      "cell_type": "code",
      "source": [
        "csv_button = wd_chrome.find_element_by_xpath('/html/body/app-root/ion-app/ion-router-outlet/app-home/ion-content/div[1]/div[2]/ion-button')"
      ],
      "metadata": {
        "colab": {
          "base_uri": "https://localhost:8080/"
        },
        "id": "y5xecRA-QIQa",
        "outputId": "8b3158a4-1f80-460b-ead7-a19854fb0cd6"
      },
      "execution_count": null,
      "outputs": [
        {
          "output_type": "stream",
          "name": "stderr",
          "text": [
            "/usr/local/lib/python3.7/dist-packages/ipykernel_launcher.py:1: DeprecationWarning: find_element_by_xpath is deprecated. Please use find_element(by=By.XPATH, value=xpath) instead\n",
            "  \"\"\"Entry point for launching an IPython kernel.\n"
          ]
        }
      ]
    },
    {
      "cell_type": "code",
      "source": [
        "csv_button.click()"
      ],
      "metadata": {
        "id": "pJMYgURTdAZV"
      },
      "execution_count": null,
      "outputs": []
    },
    {
      "cell_type": "markdown",
      "source": [
        "Fica como um arquivo temporário "
      ],
      "metadata": {
        "id": "ybr40LModmJV"
      }
    },
    {
      "cell_type": "code",
      "source": [
        "#Forma para mover para um página dentro do driver\n",
        "!mv 'CAMINHO DO ARQUIVO' 'CAMINHO DA PASTA DE DESTINO'"
      ],
      "metadata": {
        "id": "3SBUhSjSdSCD"
      },
      "execution_count": null,
      "outputs": []
    },
    {
      "cell_type": "code",
      "source": [
        ""
      ],
      "metadata": {
        "id": "cli6GlWifELn"
      },
      "execution_count": null,
      "outputs": []
    }
  ]
}